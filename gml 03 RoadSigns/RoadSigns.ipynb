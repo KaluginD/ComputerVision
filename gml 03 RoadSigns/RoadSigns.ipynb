{
 "cells": [
  {
   "cell_type": "code",
   "execution_count": 3,
   "metadata": {},
   "outputs": [],
   "source": [
    "import skimage.io\n",
    "import numpy as np"
   ]
  },
  {
   "cell_type": "code",
   "execution_count": 4,
   "metadata": {},
   "outputs": [],
   "source": [
    "import os\n",
    "import matplotlib.pyplot as plt\n",
    "import pandas as pd"
   ]
  },
  {
   "cell_type": "code",
   "execution_count": 6,
   "metadata": {},
   "outputs": [],
   "source": [
    "image = skimage.io.imread('public_data/00_input/train/00000.png')\n",
    "#gt = skimage.io.imread('public_data/00_gt/gt.csv')"
   ]
  },
  {
   "cell_type": "code",
   "execution_count": 7,
   "metadata": {},
   "outputs": [
    {
     "data": {
      "text/plain": [
       "<matplotlib.image.AxesImage at 0x11eb828d0>"
      ]
     },
     "execution_count": 7,
     "metadata": {},
     "output_type": "execute_result"
    },
    {
     "data": {
      "image/png": "[encoded data removed]",
      "text/plain": [
       "<Figure size 432x288 with 1 Axes>"
      ]
     },
     "metadata": {
      "needs_background": "light"
     },
     "output_type": "display_data"
    }
   ],
   "source": [
    "plt.imshow(image)"
   ]
  },
  {
   "cell_type": "code",
   "execution_count": 8,
   "metadata": {},
   "outputs": [
    {
     "data": {
      "text/plain": [
       "(30, 29, 3)"
      ]
     },
     "execution_count": 8,
     "metadata": {},
     "output_type": "execute_result"
    }
   ],
   "source": [
    "image.shape"
   ]
  },
  {
   "cell_type": "code",
   "execution_count": 15,
   "metadata": {},
   "outputs": [],
   "source": [
    "image_rgb = image.transpose((2, 0, 1))"
   ]
  },
  {
   "cell_type": "code",
   "execution_count": null,
   "metadata": {},
   "outputs": [],
   "source": [
    "I_x_colors = np.zeros(image_rgb[0].shape) \n",
    "I_y_colors = np.zeros(image_rgb[0].shape)\n",
    "G = np.zeros(image_rgb.shape)\n",
    "tans = np.zeros(image_rgb[0].shape)\n",
    "\n",
    "for i, color in enumerate(image_rgb):\n",
    "    iamge = color\n",
    "    dx_map = np.roll(image, 1, axis=0) - np.roll(image, -1, axis=0)\n",
    "    dy_map = np.roll(image, 1, axis=1) - np.roll(image, -1, axis=1)\n",
    "    dx_map[0, :], dy_map[:, 0] = image[1, :] - image[0, :], image[:, 1] - image[:, 0]\n",
    "    dx_map[-1, :], dy_map[:, -1] = image[-1, :] - image[-2, :], image[:, -1] - image[:, -2]\n",
    "    G[i] = np.sqrt(dx_map ** 2 + dy_map ** 2)"
   ]
  }
 ],
 "metadata": {
  "kernelspec": {
   "display_name": "Python 3",
   "language": "python",
   "name": "python3"
  },
  "language_info": {
   "codemirror_mode": {
    "name": "ipython",
    "version": 3
   },
   "file_extension": ".py",
   "mimetype": "text/x-python",
   "name": "python",
   "nbconvert_exporter": "python",
   "pygments_lexer": "ipython3",
   "version": "3.6.5"
  }
 },
 "nbformat": 4,
 "nbformat_minor": 2
}
